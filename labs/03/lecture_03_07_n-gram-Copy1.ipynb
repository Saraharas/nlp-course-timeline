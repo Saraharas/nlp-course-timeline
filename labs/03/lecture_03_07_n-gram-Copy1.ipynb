{
 "cells": [
  {
   "cell_type": "markdown",
   "id": "4e8e206e-195f-4c99-a742-f98f184a9c0a",
   "metadata": {},
   "source": [
    "# n-gram"
   ]
  },
  {
   "cell_type": "code",
   "execution_count": 9,
   "id": "6d8d0a2e-12fa-4ea5-987d-9f40816fd272",
   "metadata": {},
   "outputs": [],
   "source": [
    "import numpy as np\n",
    "import random\n",
    "\n",
    "class NGramLanguageModel:\n",
    "    def __init__(self, n=2):\n",
    "        self.n = n\n",
    "        self.ngram_dict = {}\n",
    "\n",
    "    def create_ngrams(self, text):\n",
    "        words = text.split()\n",
    "        ngrams = [tuple(words[i:i + self.n]) for i in range(len(words) - self.n + 1)]\n",
    "        return ngrams\n",
    "\n",
    "    def train(self, corpus):\n",
    "        for sentence in corpus:\n",
    "            ngrams = self.create_ngrams(sentence)\n",
    "            for ngram in ngrams:\n",
    "                if ngram in self.ngram_dict:\n",
    "                    self.ngram_dict[ngram] += 1\n",
    "                else:\n",
    "                    self.ngram_dict[ngram] = 1\n",
    "\n",
    "    def generate_text(self, length=10):\n",
    "        if not self.ngram_dict:\n",
    "            raise ValueError(\"Модель не обучена. Сначала обучите модель на корпусе текста.\")\n",
    "        \n",
    "        # Начнем генерацию с случайной n-граммы из словаря\n",
    "        current_ngram = random.choice(list(self.ngram_dict.keys()))\n",
    "        generated_text = list(current_ngram)\n",
    "\n",
    "        for _ in range(length - self.n):\n",
    "            next_word_options = []\n",
    "            for ngram, count in self.ngram_dict.items():\n",
    "                if ngram[:-1] == current_ngram[1:]:\n",
    "                    next_word_options.extend([ngram[-1]] * count)\n",
    "\n",
    "            if not next_word_options:\n",
    "                break\n",
    "\n",
    "            next_word = random.choice(next_word_options)\n",
    "            generated_text.append(next_word)\n",
    "            current_ngram = current_ngram[1:] + (next_word,)\n",
    "\n",
    "        return ' '.join(generated_text)"
   ]
  },
  {
   "cell_type": "code",
   "execution_count": 23,
   "id": "42f839f3-9ec2-4a45-9552-4e4930d54e5b",
   "metadata": {},
   "outputs": [
    {
     "name": "stdout",
     "output_type": "stream",
     "text": [
      "Сгенерированный текст:\n",
      "python - мой компьютер работает на linux\n"
     ]
    }
   ],
   "source": [
    "# Пример использования\n",
    "# Пример текстовых данных для обучения\n",
    "corpus = [\n",
    "    \"я люблю программирование\",\n",
    "    \"программирование - это увлекательно\",\n",
    "    \"язык python - мой любимый\",\n",
    "    \"мой компьютер работает на linux\",\n",
    "]\n",
    "\n",
    "# Создаем модель с биграммами (n=2)\n",
    "ngram_model = NGramLanguageModel(n=2)\n",
    "\n",
    "# Обучаем модель на корпусе текста\n",
    "ngram_model.train(corpus)\n",
    "\n",
    "# Генерируем текст с использованием модели\n",
    "generated_text = ngram_model.generate_text(length=10)\n",
    "print(\"Сгенерированный текст:\")\n",
    "print(generated_text)"
   ]
  },
  {
   "cell_type": "code",
   "execution_count": null,
   "id": "36a35aa9-e907-4fc9-8210-906f07cdd115",
   "metadata": {},
   "outputs": [],
   "source": []
  }
 ],
 "metadata": {
  "kernelspec": {
   "display_name": "Python 3 (ipykernel)",
   "language": "python",
   "name": "python3"
  },
  "language_info": {
   "codemirror_mode": {
    "name": "ipython",
    "version": 3
   },
   "file_extension": ".py",
   "mimetype": "text/x-python",
   "name": "python",
   "nbconvert_exporter": "python",
   "pygments_lexer": "ipython3",
   "version": "3.11.5"
  }
 },
 "nbformat": 4,
 "nbformat_minor": 5
}

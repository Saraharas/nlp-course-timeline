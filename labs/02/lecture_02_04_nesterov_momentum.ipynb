{
 "cells": [
  {
   "cell_type": "code",
   "execution_count": 4,
   "id": "b1362be6-7798-4b54-b699-d6cf48225a09",
   "metadata": {},
   "outputs": [],
   "source": [
    "import numpy as np\n",
    "\n",
    "class NesterovMomentumOptimizer:\n",
    "    def __init__(self, learning_rate=0.01, momentum=0.9):\n",
    "        self.learning_rate = learning_rate\n",
    "        self.momentum = momentum\n",
    "        self.velocity = None\n",
    "\n",
    "    def initialize(self, parameters):\n",
    "        # Инициализируем скорость для каждого параметра нулями\n",
    "        self.velocity = [np.zeros_like(param) for param in parameters]\n",
    "\n",
    "    def update(self, parameters, gradients):\n",
    "        if self.velocity is None:\n",
    "            self.initialize(parameters)\n",
    "\n",
    "        for i in range(len(parameters)):\n",
    "            # Сохраняем текущие параметры для возврата к ним позже\n",
    "            prev_params = np.copy(parameters[i])\n",
    "            \n",
    "            # Предварительно обновляем параметры с учетом скорости\n",
    "            parameters[i] -= self.momentum * self.velocity[i]\n",
    "            \n",
    "            # Вычисляем скорость с учетом градиента и предварительно обновленных параметров\n",
    "            self.velocity[i] = self.momentum * self.velocity[i] + self.learning_rate * gradients[i]\n",
    "            \n",
    "            # Окончательно обновляем параметры с учетом скорости\n",
    "            parameters[i] -= self.velocity[i]\n",
    "            \n",
    "            # Возвращаем параметры к исходному состоянию\n",
    "            parameters[i] = prev_params\n"
   ]
  },
  {
   "cell_type": "code",
   "execution_count": 5,
   "id": "f31072f2-b2cf-4325-aad6-f4567dde3ee9",
   "metadata": {},
   "outputs": [],
   "source": [
    "# Создаем оптимизатор\n",
    "optimizer = NesterovMomentumOptimizer(learning_rate=0.01, momentum=0.9)\n",
    "\n",
    "# Создаем параметры и градиенты (пример)\n",
    "parameters = [np.random.randn(3, 3), np.random.randn(2, 2)]\n",
    "gradients = [np.random.randn(3, 3), np.random.randn(2, 2)]\n",
    "\n",
    "# Обновляем параметры с помощью оптимизатора\n",
    "optimizer.update(parameters, gradients)"
   ]
  }
 ],
 "metadata": {
  "kernelspec": {
   "display_name": "Python 3 (ipykernel)",
   "language": "python",
   "name": "python3"
  },
  "language_info": {
   "codemirror_mode": {
    "name": "ipython",
    "version": 3
   },
   "file_extension": ".py",
   "mimetype": "text/x-python",
   "name": "python",
   "nbconvert_exporter": "python",
   "pygments_lexer": "ipython3",
   "version": "3.11.5"
  }
 },
 "nbformat": 4,
 "nbformat_minor": 5
}

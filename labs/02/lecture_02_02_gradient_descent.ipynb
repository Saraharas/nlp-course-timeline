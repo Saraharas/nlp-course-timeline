{
 "cells": [
  {
   "cell_type": "markdown",
   "metadata": {},
   "source": [
    "# Градиентный спуск"
   ]
  },
  {
   "cell_type": "markdown",
   "metadata": {},
   "source": [
    "## Аналитическое решение линейной регрессии\n",
    "\n",
    "Для нахождения аналитического решения линейной регрессии используется следующий подход:\r\n",
    "\r\n",
    "Исходная функция ошибки: $(x_i \\cdot w - y_i)^2$\r\n",
    "\r\n",
    "Производная функции ошибки (по правилу производной сложной функции): $2 \\cdot (x_i \\cdot w - y_i) \\cdot x_i$\r\n",
    "\r\n",
    "Вектор градиента функционала ошибки в матричной форме: $\\nabla Q(w) = \\frac{2}{n} X^T (X \\cdot w - y)$\r\n",
    "\r\n",
    "Затем уравнение градиента приравнивается к нулю:\r\n",
    "\r\n",
    "$\\frac{2}{n} X^T (X \\cdot w - y) = 0$\r\n",
    "\r\n",
    "Для упрощения уравнения, умножаем обе стороны на $\\frac{n}{2}$:\r\n",
    "\r\n",
    "$X^T (X \\cdot w - y) = 0$\r\n",
    "\r\n",
    "Раскрываем скобки и перенося член $X^T y$:\r\n",
    "\r\n",
    "$X^T X \\cdot w = X^T y$\r\n",
    "\r\n",
    "Наконец, решаем уравнение относительно вектора весов $w$:\r\n",
    "\r\n",
    "$w = (X^T X)^{-1} X^T y$"
   ]
  },
  {
   "cell_type": "markdown",
   "metadata": {},
   "source": [
    "## Реализация в Python <a class=\"anchor\" id=\"linear_regression_python\"></a>"
   ]
  },
  {
   "cell_type": "code",
   "execution_count": 1,
   "metadata": {},
   "outputs": [],
   "source": [
    "import numpy as np"
   ]
  },
  {
   "cell_type": "markdown",
   "metadata": {},
   "source": [
    "## Линейная регрессия с циклами <a class=\"anchor\" id=\"linear_regression\"></a>"
   ]
  },
  {
   "cell_type": "code",
   "execution_count": 2,
   "metadata": {},
   "outputs": [],
   "source": [
    "def predict(X, weights, bias):\n",
    "    y_pred = bias\n",
    "    \n",
    "    for i in range(len(X)):\n",
    "        y_pred += weights[i] * X[i]\n",
    "    \n",
    "    return y_pred\n",
    "\n",
    "def linear_model(X, y, learning_rate=0.01, num_iterations=10):\n",
    "    num_samples, num_features = X.shape\n",
    "    weights = [0] * num_features\n",
    "    bias = 0\n",
    "    \n",
    "    for _ in range(num_iterations):\n",
    "        # Инициализация градиентов\n",
    "        dw = [0] * num_features\n",
    "        db = 0\n",
    "        # Проход по каждому объекту \n",
    "        for i in range(num_samples):\n",
    "            # Предсказание\n",
    "            y_pred = predict(X[i], weights, bias)\n",
    "            \n",
    "            # Обновление градиентов\n",
    "            error = y_pred - y[i]\n",
    "            for j in range(num_features):\n",
    "                dw[j] += error * X[i][j]\n",
    "            db += error\n",
    "        \n",
    "        # Обновление весов и смещения\n",
    "        for j in range(num_features):\n",
    "            weights[j] -= (learning_rate * dw[j]) / num_samples\n",
    "        bias -= (learning_rate * db) / num_samples\n",
    "    \n",
    "    return weights, bias"
   ]
  },
  {
   "cell_type": "code",
   "execution_count": 3,
   "metadata": {},
   "outputs": [
    {
     "name": "stdout",
     "output_type": "stream",
     "text": [
      "Веса: [0.8263654277742603, 0.9757570733131978, 1.1251487188521354]\n",
      "Смещение: 0.14939164553893752\n",
      "Предсказанное значение: 32.64815835595235\n"
     ]
    }
   ],
   "source": [
    "# Пример данных\n",
    "X = np.array([[1, 2, 3], [4, 5, 6], [7, 8, 9]])\n",
    "y = np.array([6, 15, 24])\n",
    "\n",
    "# Обучение модели\n",
    "weights, bias = linear_model(X, y, num_iterations=10)\n",
    "\n",
    "# Вывод результатов\n",
    "print(\"Веса:\", weights)\n",
    "print(\"Смещение:\", bias)\n",
    "\n",
    "# Пример предсказания\n",
    "x_test = np.array([10, 11, 12])\n",
    "y_pred = predict(x_test, weights, bias)\n",
    "print(\"Предсказанное значение:\", y_pred)"
   ]
  },
  {
   "cell_type": "markdown",
   "metadata": {},
   "source": [
    "## Линейная регрессия с numpy <a class=\"anchor\" id=\"linear_regression_numpy\"></a>"
   ]
  },
  {
   "cell_type": "code",
   "execution_count": 4,
   "metadata": {},
   "outputs": [],
   "source": [
    "def linear_model_numpy(X, y, learning_rate=0.01, num_iterations=10):\n",
    "    num_samples, num_features = X.shape\n",
    "    weights = np.zeros(num_features)\n",
    "    bias = 0\n",
    "\n",
    "    for _ in range(num_iterations):\n",
    "        # Предсказание\n",
    "        y_pred = predict(X, weights, bias)\n",
    "\n",
    "        # Обновление градиентов\n",
    "        dw = np.dot(X.T, (y_pred - y)) / num_samples\n",
    "        db = np.mean(y_pred - y)\n",
    "\n",
    "        # Обновление весов и смещения\n",
    "        weights -= learning_rate * dw\n",
    "        bias -= learning_rate * db\n",
    "\n",
    "    return weights, bias\n",
    "\n",
    "def predict(X, weights, bias):\n",
    "    return np.dot(X, weights) + bias\n"
   ]
  },
  {
   "cell_type": "code",
   "execution_count": 5,
   "metadata": {},
   "outputs": [
    {
     "name": "stdout",
     "output_type": "stream",
     "text": [
      "Веса: [0.82636543 0.97575707 1.12514872]\n",
      "Смещение: 0.14939164553893752\n",
      "Предсказанное значение: 32.64815835595235\n"
     ]
    }
   ],
   "source": [
    "# Пример данных\n",
    "X = np.array([[1, 2, 3], [4, 5, 6], [7, 8, 9]])\n",
    "y = np.array([6, 15, 24])\n",
    "\n",
    "# Обучение модели\n",
    "weights, bias = linear_model_numpy(X, y)\n",
    "\n",
    "# Вывод результатов\n",
    "print(\"Веса:\", weights)\n",
    "print(\"Смещение:\", bias)\n",
    "\n",
    "# Пример предсказания\n",
    "x_test = np.array([10, 11, 12])\n",
    "y_pred = predict(x_test, weights, bias)\n",
    "print(\"Предсказанное значение:\", y_pred)"
   ]
  },
  {
   "cell_type": "markdown",
   "metadata": {},
   "source": [
    "## Линейная регрессия с sklearn <a class=\"anchor\" id=\"linear_regression_sklearn\"></a>"
   ]
  },
  {
   "cell_type": "code",
   "execution_count": 6,
   "metadata": {},
   "outputs": [
    {
     "name": "stdout",
     "output_type": "stream",
     "text": [
      "Веса: [1. 1. 1. 1. 1.]\n",
      "Смещение: 2.1316282072803006e-14\n",
      "Предсказанное значение: 44.999999999999986\n"
     ]
    }
   ],
   "source": [
    "from sklearn.linear_model import LinearRegression\n",
    "\n",
    "# Пример данных\n",
    "X = np.array([[1, 2, 3, 4, 5], [4, 5, 6, 7, 8], [7, 8, 9, 10, 11]])\n",
    "y = np.array([15, 30, 45])\n",
    "\n",
    "def predict(X, weights, bias):\n",
    "    return np.dot(X, weights) + bias\n",
    "\n",
    "model = LinearRegression()\n",
    "model.fit(X, y)\n",
    "weights = model.coef_\n",
    "bias = model.intercept_\n",
    "\n",
    "# Вывод результатов\n",
    "print(\"Веса:\", weights)\n",
    "print(\"Смещение:\", bias)\n",
    "\n",
    "# Пример предсказания\n",
    "x_test = np.array([7, 8, 9, 10, 11])\n",
    "y_pred = predict(x_test, weights, bias)\n",
    "print(\"Предсказанное значение:\", y_pred)"
   ]
  },
  {
   "cell_type": "markdown",
   "metadata": {},
   "source": [
    "## Линейная регрессия с torch <a class=\"anchor\" id=\"linear_regression_torch\"></a>"
   ]
  },
  {
   "cell_type": "code",
   "execution_count": 15,
   "metadata": {},
   "outputs": [
    {
     "name": "stdout",
     "output_type": "stream",
     "text": [
      "Epoch [50/1000], Loss: 0.1888\n",
      "Epoch [100/1000], Loss: 0.0388\n",
      "Epoch [150/1000], Loss: 0.0244\n",
      "Epoch [200/1000], Loss: 0.0214\n",
      "Epoch [250/1000], Loss: 0.0196\n",
      "Epoch [300/1000], Loss: 0.0181\n",
      "Epoch [350/1000], Loss: 0.0168\n",
      "Epoch [400/1000], Loss: 0.0156\n",
      "Epoch [450/1000], Loss: 0.0146\n",
      "Epoch [500/1000], Loss: 0.0137\n",
      "Epoch [550/1000], Loss: 0.0130\n",
      "Epoch [600/1000], Loss: 0.0123\n",
      "Epoch [650/1000], Loss: 0.0118\n",
      "Epoch [700/1000], Loss: 0.0113\n",
      "Epoch [750/1000], Loss: 0.0109\n",
      "Epoch [800/1000], Loss: 0.0105\n",
      "Epoch [850/1000], Loss: 0.0102\n",
      "Epoch [900/1000], Loss: 0.0099\n",
      "Epoch [950/1000], Loss: 0.0097\n",
      "Epoch [1000/1000], Loss: 0.0094\n"
     ]
    },
    {
     "data": {
      "image/png": "[encoded data removed]",
      "text/plain": [
       "<Figure size 640x480 with 1 Axes>"
      ]
     },
     "metadata": {},
     "output_type": "display_data"
    },
    {
     "name": "stdout",
     "output_type": "stream",
     "text": [
      "Обученные параметры:\n",
      "linear.weight: [[1.8297185]]\n",
      "linear.bias: [1.0844069]\n"
     ]
    }
   ],
   "source": [
    "import torch\n",
    "import torch.nn as nn\n",
    "import numpy as np\n",
    "import matplotlib.pyplot as plt\n",
    "\n",
    "# Создание синтетических данных\n",
    "np.random.seed(42)\n",
    "X = np.random.rand(100, 1)  # Входные данные\n",
    "y = 2 * X + 1 + 0.1 * np.random.randn(100, 1)  # Выходные данные (с небольшим шумом)\n",
    "\n",
    "# Преобразование данных в тензоры PyTorch\n",
    "X = torch.tensor(X, dtype=torch.float32)\n",
    "y = torch.tensor(y, dtype=torch.float32)\n",
    "\n",
    "# Определение модели линейной регрессии\n",
    "class LinearRegression(nn.Module):\n",
    "    def __init__(self):\n",
    "        super(LinearRegression, self).__init__()\n",
    "        self.linear = nn.Linear(1, 1)  # Один вход, один выход\n",
    "\n",
    "    def forward(self, x):\n",
    "        return self.linear(x)\n",
    "\n",
    "# Инициализация модели\n",
    "model = LinearRegression()\n",
    "\n",
    "# Определение функции потерь и оптимизатора\n",
    "criterion = nn.MSELoss()  # Среднеквадратичная ошибка\n",
    "optimizer = torch.optim.SGD(model.parameters(), lr=0.01)  # Стохастический градиентный спуск\n",
    "\n",
    "# Обучение модели\n",
    "num_epochs = 1000\n",
    "for epoch in range(num_epochs):\n",
    "    # Прямое распространение\n",
    "    outputs = model(X)\n",
    "    \n",
    "    # Рассчитываем функцию потерь\n",
    "    loss = criterion(outputs, y)\n",
    "    \n",
    "    # Обнуляем градиенты\n",
    "    optimizer.zero_grad()\n",
    "    \n",
    "    # Обратное распространение и оптимизация\n",
    "    loss.backward()\n",
    "    optimizer.step()\n",
    "    \n",
    "    if (epoch+1) % 50 == 0:\n",
    "        print(f'Epoch [{epoch+1}/{num_epochs}], Loss: {loss.item():.4f}')\n",
    "\n",
    "# Визуализация результатов\n",
    "predicted = model(X).detach().numpy()\n",
    "plt.scatter(X.numpy(), y.numpy(), label='Original data')\n",
    "plt.plot(X.numpy(), predicted, label='Fitted line', color='r')\n",
    "plt.legend()\n",
    "plt.show()\n",
    "\n",
    "# Получение обученных параметров\n",
    "print(\"Обученные параметры:\")\n",
    "for name, param in model.named_parameters():\n",
    "    if param.requires_grad:\n",
    "        print(f\"{name}: {param.data.numpy()}\")"
   ]
  },
  {
   "cell_type": "code",
   "execution_count": null,
   "metadata": {},
   "outputs": [],
   "source": []
  }
 ],
 "metadata": {
  "kernelspec": {
   "display_name": "Python 3 (ipykernel)",
   "language": "python",
   "name": "python3"
  },
  "language_info": {
   "codemirror_mode": {
    "name": "ipython",
    "version": 3
   },
   "file_extension": ".py",
   "mimetype": "text/x-python",
   "name": "python",
   "nbconvert_exporter": "python",
   "pygments_lexer": "ipython3",
   "version": "3.11.5"
  }
 },
 "nbformat": 4,
 "nbformat_minor": 4
}

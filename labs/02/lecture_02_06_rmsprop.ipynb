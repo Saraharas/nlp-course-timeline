{
 "cells": [
  {
   "cell_type": "code",
   "execution_count": 4,
   "id": "b1362be6-7798-4b54-b699-d6cf48225a09",
   "metadata": {},
   "outputs": [],
   "source": [
    "import numpy as np\n",
    "\n",
    "class RMSpropOptimizer:\n",
    "    def __init__(self, learning_rate=0.01, decay_rate=0.9, epsilon=1e-8):\n",
    "        self.learning_rate = learning_rate\n",
    "        self.decay_rate = decay_rate\n",
    "        self.epsilon = epsilon\n",
    "        self.running_squared_gradients = None\n",
    "\n",
    "    def initialize(self, parameters):\n",
    "        # Инициализируем средние квадраты градиентов для каждого параметра\n",
    "        self.running_squared_gradients = [np.zeros_like(param) for param in parameters]\n",
    "\n",
    "    def update(self, parameters, gradients):\n",
    "        if self.running_squared_gradients is None:\n",
    "            self.initialize(parameters)\n",
    "\n",
    "        for i in range(len(parameters)):\n",
    "            # Вычисляем средние квадраты градиентов с экспоненциальным сглаживанием\n",
    "            self.running_squared_gradients[i] = (self.decay_rate * self.running_squared_gradients[i] +\n",
    "                                                 (1 - self.decay_rate) * gradients[i] ** 2)\n",
    "            \n",
    "            # Вычисляем скорость обучения для данного параметра\n",
    "            learning_rate_i = self.learning_rate / (np.sqrt(self.running_squared_gradients[i]) + self.epsilon)\n",
    "            \n",
    "            # Обновляем параметры с учетом скорости обучения\n",
    "            parameters[i] -= learning_rate_i * gradients[i]"
   ]
  },
  {
   "cell_type": "code",
   "execution_count": 5,
   "id": "f31072f2-b2cf-4325-aad6-f4567dde3ee9",
   "metadata": {},
   "outputs": [],
   "source": [
    "# Создаем оптимизатор\n",
    "optimizer = RMSpropOptimizer(learning_rate=0.01, decay_rate=0.9, epsilon=1e-8)\n",
    "\n",
    "# Создаем параметры и градиенты (пример)\n",
    "parameters = [np.random.randn(3, 3), np.random.randn(2, 2)]\n",
    "gradients = [np.random.randn(3, 3), np.random.randn(2, 2)]\n",
    "\n",
    "# Обновляем параметры с помощью оптимизатора\n",
    "optimizer.update(parameters, gradients)"
   ]
  }
 ],
 "metadata": {
  "kernelspec": {
   "display_name": "Python 3 (ipykernel)",
   "language": "python",
   "name": "python3"
  },
  "language_info": {
   "codemirror_mode": {
    "name": "ipython",
    "version": 3
   },
   "file_extension": ".py",
   "mimetype": "text/x-python",
   "name": "python",
   "nbconvert_exporter": "python",
   "pygments_lexer": "ipython3",
   "version": "3.11.5"
  }
 },
 "nbformat": 4,
 "nbformat_minor": 5
}
